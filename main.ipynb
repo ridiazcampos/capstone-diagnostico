{
 "cells": [
  {
   "cell_type": "markdown",
   "id": "c7f39f3b",
   "metadata": {},
   "source": [
    "## Diagnóstico\n",
    "\n",
    "Raúl Diaz Campos | 1720688J | Sección 3"
   ]
  },
  {
   "cell_type": "code",
   "execution_count": 116,
   "id": "f4575334",
   "metadata": {},
   "outputs": [],
   "source": [
    "import json\n",
    "import datetime"
   ]
  },
  {
   "cell_type": "code",
   "execution_count": 1,
   "id": "ebb4a603",
   "metadata": {},
   "outputs": [],
   "source": [
    "FILE = \"./farmers-protest-tweets-2021-03-5.json\""
   ]
  },
  {
   "cell_type": "code",
   "execution_count": 13,
   "id": "b9073b8a",
   "metadata": {},
   "outputs": [],
   "source": [
    "def get_tweets(FILE):\n",
    "    return [json.loads(tweet) for tweet in open(FILE)]"
   ]
  },
  {
   "cell_type": "code",
   "execution_count": 14,
   "id": "4c5776a7",
   "metadata": {},
   "outputs": [],
   "source": [
    "tweets = get_tweets(FILE)"
   ]
  },
  {
   "cell_type": "code",
   "execution_count": null,
   "id": "998aa2c4",
   "metadata": {},
   "outputs": [],
   "source": []
  },
  {
   "cell_type": "code",
   "execution_count": null,
   "id": "1ac3227d",
   "metadata": {},
   "outputs": [],
   "source": []
  },
  {
   "cell_type": "code",
   "execution_count": 132,
   "id": "d8280896",
   "metadata": {},
   "outputs": [],
   "source": [
    "def days_with_more_tweets(tweets):\n",
    "    def more_tweets(day):\n",
    "        return day[\"tweets\"]\n",
    "    \n",
    "    days = {}\n",
    "    with_more_tweets = []\n",
    "    \n",
    "    for tweet in tweets:\n",
    "        tweet_date = tweet[\"date\"][:10]\n",
    "        if tweet_date in days:\n",
    "            days[tweet_date] += 1\n",
    "        else:\n",
    "            days[tweet_date] = 1\n",
    "                \n",
    "    for _day in days:\n",
    "        day = {\"date\": _day, \"tweets\": days[_day]}\n",
    "        if len(with_more_tweets) <= 9:\n",
    "              with_more_tweets.append(day)\n",
    "              with_more_tweets = sorted(with_more_tweets, key=more_tweets)\n",
    "        else: \n",
    "            if with_more_tweets[9][\"tweets\"] <= day[\"tweets\"]:\n",
    "                with_more_tweets.pop(0)\n",
    "                with_more_tweets.append(day)\n",
    "            elif with_more_tweets[0][\"tweets\"] <= day[\"tweets\"]:\n",
    "                with_more_tweets.append(day)\n",
    "                with_more_tweets = sorted(with_more_tweets, key=more_tweets)[1:]\n",
    "\n",
    "    \n",
    "    return with_more_tweets"
   ]
  },
  {
   "cell_type": "code",
   "execution_count": 133,
   "id": "afa2a3f9",
   "metadata": {},
   "outputs": [
    {
     "data": {
      "text/plain": [
       "[{'date': '2021-02-11', 'tweets': 5698},\n",
       " {'date': '2021-02-10', 'tweets': 7973},\n",
       " {'date': '2021-02-08', 'tweets': 8920},\n",
       " {'date': '2021-02-09', 'tweets': 9320},\n",
       " {'date': '2021-02-07', 'tweets': 11325},\n",
       " {'date': '2021-02-06', 'tweets': 22420},\n",
       " {'date': '2021-02-02', 'tweets': 28548},\n",
       " {'date': '2021-02-05', 'tweets': 33332},\n",
       " {'date': '2021-02-04', 'tweets': 58607},\n",
       " {'date': '2021-02-03', 'tweets': 83866}]"
      ]
     },
     "execution_count": 133,
     "metadata": {},
     "output_type": "execute_result"
    }
   ],
   "source": [
    "days_with_more_tweets(tweets)"
   ]
  },
  {
   "cell_type": "code",
   "execution_count": null,
   "id": "ae6a1f61",
   "metadata": {},
   "outputs": [],
   "source": []
  }
 ],
 "metadata": {
  "kernelspec": {
   "display_name": "Python 3 (ipykernel)",
   "language": "python",
   "name": "python3"
  },
  "language_info": {
   "codemirror_mode": {
    "name": "ipython",
    "version": 3
   },
   "file_extension": ".py",
   "mimetype": "text/x-python",
   "name": "python",
   "nbconvert_exporter": "python",
   "pygments_lexer": "ipython3",
   "version": "3.9.12"
  }
 },
 "nbformat": 4,
 "nbformat_minor": 5
}
