{
 "cells": [
  {
   "cell_type": "markdown",
   "id": "c7f39f3b",
   "metadata": {},
   "source": [
    "## Diagnóstico\n",
    "\n",
    "Raúl Diaz Campos | 1720688J | Sección 3"
   ]
  },
  {
   "cell_type": "code",
   "execution_count": 2,
   "id": "f4575334",
   "metadata": {},
   "outputs": [],
   "source": [
    "import json"
   ]
  },
  {
   "cell_type": "code",
   "execution_count": 1,
   "id": "ebb4a603",
   "metadata": {},
   "outputs": [],
   "source": [
    "FILE = \"./farmers-protest-tweets-2021-03-5.json\""
   ]
  },
  {
   "cell_type": "code",
   "execution_count": 13,
   "id": "b9073b8a",
   "metadata": {},
   "outputs": [],
   "source": [
    "def get_tweets(FILE):\n",
    "    return [json.loads(tweet) for tweet in open(FILE)]"
   ]
  },
  {
   "cell_type": "code",
   "execution_count": 14,
   "id": "4c5776a7",
   "metadata": {},
   "outputs": [],
   "source": [
    "tweets = get_tweets(FILE)"
   ]
  },
  {
   "cell_type": "code",
   "execution_count": 19,
   "id": "d8280896",
   "metadata": {},
   "outputs": [
    {
     "data": {
      "text/plain": [
       "{'url': 'https://twitter.com/ShashiRajbhar6/status/1376739399593910273',\n",
       " 'date': '2021-03-30T03:33:46+00:00',\n",
       " 'content': 'Support 👇\\n\\n#FarmersProtest',\n",
       " 'renderedContent': 'Support 👇\\n\\n#FarmersProtest',\n",
       " 'id': 1376739399593910273,\n",
       " 'user': {'username': 'ShashiRajbhar6',\n",
       "  'displayname': 'Shashi Rajbhar',\n",
       "  'id': 1015969769760096256,\n",
       "  'description': \"Satya presan 🤔ho Sakta but prajit💪 nhi\\njhuth se samjhauta kbhi nhi\\nJai Shree Ram 🕉 🙏🕉 followed by hon'ble @ArunrajbharSbsp\",\n",
       "  'rawDescription': \"Satya presan 🤔ho Sakta but prajit💪 nhi\\njhuth se samjhauta kbhi nhi\\nJai Shree Ram 🕉 🙏🕉 followed by hon'ble @ArunrajbharSbsp\",\n",
       "  'descriptionUrls': [],\n",
       "  'verified': False,\n",
       "  'created': '2018-07-08T14:44:03+00:00',\n",
       "  'followersCount': 1788,\n",
       "  'friendsCount': 1576,\n",
       "  'statusesCount': 14396,\n",
       "  'favouritesCount': 26071,\n",
       "  'listedCount': 1,\n",
       "  'mediaCount': 254,\n",
       "  'location': 'Azm Uttar Pradesh, India',\n",
       "  'protected': False,\n",
       "  'linkUrl': None,\n",
       "  'linkTcourl': None,\n",
       "  'profileImageUrl': 'https://pbs.twimg.com/profile_images/1354331299868237825/eDzdhZTD_normal.jpg',\n",
       "  'profileBannerUrl': 'https://pbs.twimg.com/profile_banners/1015969769760096256/1613727783',\n",
       "  'url': 'https://twitter.com/ShashiRajbhar6'},\n",
       " 'outlinks': [],\n",
       " 'tcooutlinks': [],\n",
       " 'replyCount': 0,\n",
       " 'retweetCount': 0,\n",
       " 'likeCount': 0,\n",
       " 'quoteCount': 0,\n",
       " 'conversationId': 1376739399593910273,\n",
       " 'lang': 'en',\n",
       " 'source': '<a href=\"http://twitter.com/download/android\" rel=\"nofollow\">Twitter for Android</a>',\n",
       " 'sourceUrl': 'http://twitter.com/download/android',\n",
       " 'sourceLabel': 'Twitter for Android',\n",
       " 'media': None,\n",
       " 'retweetedTweet': None,\n",
       " 'quotedTweet': None,\n",
       " 'mentionedUsers': None}"
      ]
     },
     "execution_count": 19,
     "metadata": {},
     "output_type": "execute_result"
    }
   ],
   "source": [
    "tweets[0]"
   ]
  },
  {
   "cell_type": "code",
   "execution_count": null,
   "id": "afa2a3f9",
   "metadata": {},
   "outputs": [],
   "source": []
  }
 ],
 "metadata": {
  "kernelspec": {
   "display_name": "Python 3 (ipykernel)",
   "language": "python",
   "name": "python3"
  },
  "language_info": {
   "codemirror_mode": {
    "name": "ipython",
    "version": 3
   },
   "file_extension": ".py",
   "mimetype": "text/x-python",
   "name": "python",
   "nbconvert_exporter": "python",
   "pygments_lexer": "ipython3",
   "version": "3.9.12"
  }
 },
 "nbformat": 4,
 "nbformat_minor": 5
}
