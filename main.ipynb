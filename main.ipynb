{
 "cells": [
  {
   "cell_type": "markdown",
   "id": "4e0c8259",
   "metadata": {},
   "source": [
    "## Diagnóstico\n",
    "\n",
    "Raúl Diaz Campos | 1720688J | Sección 3"
   ]
  },
  {
   "cell_type": "code",
   "execution_count": 2,
   "id": "179d7455",
   "metadata": {},
   "outputs": [],
   "source": [
    "import json"
   ]
  },
  {
   "cell_type": "code",
   "execution_count": 1,
   "id": "0ed7ad78",
   "metadata": {},
   "outputs": [],
   "source": [
    "FILE = \"./farmers-protest-tweets-2021-03-5.json\""
   ]
  },
  {
   "cell_type": "code",
   "execution_count": 13,
   "id": "b5bc6a8c",
   "metadata": {},
   "outputs": [],
   "source": [
    "def get_tweets(FILE):\n",
    "    return [json.loads(tweet) for tweet in open(FILE)]"
   ]
  },
  {
   "cell_type": "code",
   "execution_count": 14,
   "id": "2c4edf3d",
   "metadata": {},
   "outputs": [],
   "source": [
    "tweets = get_tweets(FILE)"
   ]
  },
  {
   "cell_type": "code",
   "execution_count": 80,
   "id": "154c02c7",
   "metadata": {},
   "outputs": [],
   "source": [
    "def retweeted_tweets(tweets):\n",
    "    def retweet(tweet):\n",
    "        return tweet[\"retweetCount\"]\n",
    "    \n",
    "    most_retweeted = []\n",
    "    \n",
    "    for tweet in tweets:\n",
    "            if len(most_retweeted) <= 9:\n",
    "                most_retweeted.append(tweet)\n",
    "                most_retweeted = sorted(most_retweeted, key=retweet)\n",
    "            else:\n",
    "                if most_retweeted[9][\"retweetCount\"] <= tweet[\"retweetCount\"]:\n",
    "                    most_retweeted.pop(0)\n",
    "                    most_retweeted.append(tweet)\n",
    "                elif most_retweeted[0][\"retweetCount\"] <= tweet[\"retweetCount\"]:\n",
    "                    most_retweeted.append(tweet)\n",
    "                    most_retweeted = sorted(most_retweeted, key=retweet)[1:]\n",
    "    return most_retweeted"
   ]
  },
  {
   "cell_type": "code",
   "execution_count": null,
   "id": "02197f29",
   "metadata": {},
   "outputs": [],
   "source": []
  },
  {
   "cell_type": "code",
   "execution_count": 98,
   "id": "d675779f",
   "metadata": {},
   "outputs": [
    {
     "data": {
      "text/plain": [
       "[(1359013362881994752, 15677),\n",
       " (1357009721090138112, 17368),\n",
       " (1356681136655769605, 18744),\n",
       " (1357755699162398720, 20132),\n",
       " (1357048037302960129, 23251),\n",
       " (1356827705161879553, 26972),\n",
       " (1356848397899112448, 35921),\n",
       " (1357282507616645122, 67694),\n",
       " (1356694884615340037, 103957),\n",
       " (1356625889602199552, 315547)]"
      ]
     },
     "execution_count": 98,
     "metadata": {},
     "output_type": "execute_result"
    }
   ],
   "source": [
    "[(tweet[\"id\"], tweet[\"retweetCount\"]) for tweet in retweeted_tweets(mini_tweets)]"
   ]
  },
  {
   "cell_type": "code",
   "execution_count": null,
   "id": "80fe4ca4",
   "metadata": {},
   "outputs": [],
   "source": []
  }
 ],
 "metadata": {
  "kernelspec": {
   "display_name": "Python 3 (ipykernel)",
   "language": "python",
   "name": "python3"
  },
  "language_info": {
   "codemirror_mode": {
    "name": "ipython",
    "version": 3
   },
   "file_extension": ".py",
   "mimetype": "text/x-python",
   "name": "python",
   "nbconvert_exporter": "python",
   "pygments_lexer": "ipython3",
   "version": "3.9.12"
  }
 },
 "nbformat": 4,
 "nbformat_minor": 5
}
